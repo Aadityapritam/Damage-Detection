{
  "nbformat": 4,
  "nbformat_minor": 0,
  "metadata": {
    "colab": {
      "name": "IoTric.ipynb",
      "provenance": [],
      "collapsed_sections": [],
      "mount_file_id": "1E7eoFkKC8XIw6XTFFVp80xXDsOYP7QD0",
      "authorship_tag": "ABX9TyN3OrCRSoJEb/6fzQS4dwOJ",
      "include_colab_link": true
    },
    "kernelspec": {
      "name": "python3",
      "display_name": "Python 3"
    },
    "accelerator": "GPU"
  },
  "cells": [
    {
      "cell_type": "markdown",
      "metadata": {
        "id": "view-in-github",
        "colab_type": "text"
      },
      "source": [
        "<a href=\"https://colab.research.google.com/github/Aadityapritam/Damage-Detection/blob/master/IoTric.ipynb\" target=\"_parent\"><img src=\"https://colab.research.google.com/assets/colab-badge.svg\" alt=\"Open In Colab\"/></a>"
      ]
    },
    {
      "cell_type": "code",
      "metadata": {
        "id": "JcoyLTbv-BYK",
        "colab_type": "code",
        "colab": {
          "base_uri": "https://localhost:8080/",
          "height": 34
        },
        "outputId": "f841324b-fe47-49dd-eea8-b9922724662d"
      },
      "source": [
        "from google.colab import drive\n",
        "drive.mount('/content/drive')"
      ],
      "execution_count": null,
      "outputs": [
        {
          "output_type": "stream",
          "text": [
            "Drive already mounted at /content/drive; to attempt to forcibly remount, call drive.mount(\"/content/drive\", force_remount=True).\n"
          ],
          "name": "stdout"
        }
      ]
    },
    {
      "cell_type": "code",
      "metadata": {
        "id": "VBPoXypoo94J",
        "colab_type": "code",
        "colab": {}
      },
      "source": [
        "#____________________________________________________________________________________________________________________________\n",
        "\n",
        "# ________________________________IMAGE AUGMENTATION FOR GENERATING MORE IMAGE FOR BETTER PERFORMANCE ________________________\n",
        "#_____________________________________________________________________________________________________________________________\n",
        "\n",
        "# from keras.preprocessing.image import ImageDataGenerator, array_to_img, img_to_array\n",
        "# import matplotlib.pyplot as plt\n",
        "# import os\n",
        "# import cv2\n",
        "# import numpy as np\n",
        "\n",
        "# datagen=ImageDataGenerator(\n",
        "#     rotation_range=20,\n",
        "#     width_shift_range=0.2,\n",
        "#     height_shift_range=0.2,\n",
        "#     shear_range=0.2,\n",
        "#     zoom_range=0.2,\n",
        "#     horizontal_flip=True,\n",
        "#     vertical_flip=True,\n",
        "#     fill_mode='nearest'\n",
        "#     )\n",
        "\n",
        "# dirc=r'C:\\Users\\Aaditya Raj\\Deep Learning\\projects\\IoTric\\dataset\\images\\crack\\\\'\n",
        "# img_path_crack=os.listdir(r'C:\\Users\\Aaditya Raj\\Deep Learning\\projects\\IoTric\\dataset\\images\\crack\\\\')\n",
        "# for img in img_path_crack:\n",
        "#     print(img)\n",
        "#     img=cv2.imread(dirc+img)\n",
        "#     img = np.array(img)\n",
        "#     img=img.reshape((1,)+ img.shape)\n",
        "#     # plt.imshow(img)\n",
        "#     # plt.show()\n",
        "#     i=0\n",
        "#     for batch in datagen.flow(img,batch_size=1, save_to_dir=r'C:\\Users\\Aaditya Raj\\Deep Learning\\projects\\IoTric\\dataset\\images\\generated', save_prefix='crack',save_format='jpeg'):\n",
        "#         i+=1\n",
        "#         if(i>10):\n",
        "#             break\n",
        "\n",
        "# dirc=r'C:\\Users\\Aaditya Raj\\Deep Learning\\projects\\IoTric\\dataset\\images\\bullseye\\\\'\n",
        "# img_path_bullseye=os.listdir(r'C:\\Users\\Aaditya Raj\\Deep Learning\\projects\\IoTric\\dataset\\images\\bullseye\\\\')\n",
        "# for img in img_path_bullseye:\n",
        "#     print(img)\n",
        "#     img=cv2.imread(dirc+img)\n",
        "#     img = np.array(img)\n",
        "#     img=img.reshape((1,)+ img.shape)\n",
        "#     # plt.imshow(img)\n",
        "#     # plt.show()\n",
        "#     i=0\n",
        "#     for batch in datagen.flow(img,batch_size=1, save_to_dir=r'C:\\Users\\Aaditya Raj\\Deep Learning\\projects\\IoTric\\dataset\\images\\generated', save_prefix='bullseye',save_format='jpeg'):\n",
        "#         i+=1\n",
        "#         if(i>7):\n",
        "#             break\n",
        "\n",
        "# dirc=r'C:\\Users\\Aaditya Raj\\Deep Learning\\projects\\IoTric\\dataset\\images\\scratch\\\\'\n",
        "# img_path_scratch=os.listdir(r'C:\\Users\\Aaditya Raj\\Deep Learning\\projects\\IoTric\\dataset\\images\\scratch\\\\')\n",
        "# for img in img_path_scratch:\n",
        "#     print(img)\n",
        "#     img=cv2.imread(dirc+img)\n",
        "#     img = np.array(img)\n",
        "#     img=img.reshape((1,)+ img.shape)\n",
        "#     # plt.imshow(img)\n",
        "#     # plt.show()\n",
        "#     i=0\n",
        "#     for batch in datagen.flow(img,batch_size=1, save_to_dir=r'C:\\Users\\Aaditya Raj\\Deep Learning\\projects\\IoTric\\dataset\\images\\generated', save_prefix='scratch',save_format='jpeg'):\n",
        "#         i+=1\n",
        "#         if(i>10):\n",
        "#             break\n"
      ],
      "execution_count": null,
      "outputs": []
    },
    {
      "cell_type": "code",
      "metadata": {
        "id": "_tmEboQlcP_p",
        "colab_type": "code",
        "colab": {
          "base_uri": "https://localhost:8080/",
          "height": 1000
        },
        "outputId": "4a6996eb-e19e-4b72-e26c-bcecb5577fe2"
      },
      "source": [
        "!pip install opencv-python==4.1.2.30\n",
        "!pip install keras==2.3.1\n",
        "!pip install tensorflow==1.14.0\n",
        "!pip install tensorflow-gpu==1.14.0\n",
        "!pip install imageai --upgrade\n"
      ],
      "execution_count": null,
      "outputs": [
        {
          "output_type": "stream",
          "text": [
            "Requirement already satisfied: opencv-python==4.1.2.30 in /usr/local/lib/python3.6/dist-packages (4.1.2.30)\n",
            "Requirement already satisfied: numpy>=1.11.3 in /usr/local/lib/python3.6/dist-packages (from opencv-python==4.1.2.30) (1.18.5)\n",
            "Requirement already satisfied: keras==2.3.1 in /usr/local/lib/python3.6/dist-packages (2.3.1)\n",
            "Requirement already satisfied: h5py in /usr/local/lib/python3.6/dist-packages (from keras==2.3.1) (2.10.0)\n",
            "Requirement already satisfied: keras-preprocessing>=1.0.5 in /usr/local/lib/python3.6/dist-packages (from keras==2.3.1) (1.1.2)\n",
            "Requirement already satisfied: numpy>=1.9.1 in /usr/local/lib/python3.6/dist-packages (from keras==2.3.1) (1.18.5)\n",
            "Requirement already satisfied: pyyaml in /usr/local/lib/python3.6/dist-packages (from keras==2.3.1) (3.13)\n",
            "Requirement already satisfied: six>=1.9.0 in /usr/local/lib/python3.6/dist-packages (from keras==2.3.1) (1.15.0)\n",
            "Requirement already satisfied: keras-applications>=1.0.6 in /usr/local/lib/python3.6/dist-packages (from keras==2.3.1) (1.0.8)\n",
            "Requirement already satisfied: scipy>=0.14 in /usr/local/lib/python3.6/dist-packages (from keras==2.3.1) (1.4.1)\n",
            "Collecting tensorflow==1.14.0\n",
            "\u001b[?25l  Downloading https://files.pythonhosted.org/packages/de/f0/96fb2e0412ae9692dbf400e5b04432885f677ad6241c088ccc5fe7724d69/tensorflow-1.14.0-cp36-cp36m-manylinux1_x86_64.whl (109.2MB)\n",
            "\u001b[K     |████████████████████████████████| 109.2MB 58kB/s \n",
            "\u001b[?25hRequirement already satisfied: protobuf>=3.6.1 in /usr/local/lib/python3.6/dist-packages (from tensorflow==1.14.0) (3.12.2)\n",
            "Requirement already satisfied: astor>=0.6.0 in /usr/local/lib/python3.6/dist-packages (from tensorflow==1.14.0) (0.8.1)\n",
            "Requirement already satisfied: six>=1.10.0 in /usr/local/lib/python3.6/dist-packages (from tensorflow==1.14.0) (1.15.0)\n",
            "Requirement already satisfied: wheel>=0.26 in /usr/local/lib/python3.6/dist-packages (from tensorflow==1.14.0) (0.34.2)\n",
            "Requirement already satisfied: keras-applications>=1.0.6 in /usr/local/lib/python3.6/dist-packages (from tensorflow==1.14.0) (1.0.8)\n",
            "Requirement already satisfied: keras-preprocessing>=1.0.5 in /usr/local/lib/python3.6/dist-packages (from tensorflow==1.14.0) (1.1.2)\n",
            "Requirement already satisfied: gast>=0.2.0 in /usr/local/lib/python3.6/dist-packages (from tensorflow==1.14.0) (0.3.3)\n",
            "Requirement already satisfied: absl-py>=0.7.0 in /usr/local/lib/python3.6/dist-packages (from tensorflow==1.14.0) (0.9.0)\n",
            "Requirement already satisfied: google-pasta>=0.1.6 in /usr/local/lib/python3.6/dist-packages (from tensorflow==1.14.0) (0.2.0)\n",
            "Collecting tensorflow-estimator<1.15.0rc0,>=1.14.0rc0\n",
            "\u001b[?25l  Downloading https://files.pythonhosted.org/packages/3c/d5/21860a5b11caf0678fbc8319341b0ae21a07156911132e0e71bffed0510d/tensorflow_estimator-1.14.0-py2.py3-none-any.whl (488kB)\n",
            "\u001b[K     |████████████████████████████████| 491kB 34.2MB/s \n",
            "\u001b[?25hRequirement already satisfied: grpcio>=1.8.6 in /usr/local/lib/python3.6/dist-packages (from tensorflow==1.14.0) (1.30.0)\n",
            "Collecting tensorboard<1.15.0,>=1.14.0\n",
            "\u001b[?25l  Downloading https://files.pythonhosted.org/packages/91/2d/2ed263449a078cd9c8a9ba50ebd50123adf1f8cfbea1492f9084169b89d9/tensorboard-1.14.0-py3-none-any.whl (3.1MB)\n",
            "\u001b[K     |████████████████████████████████| 3.2MB 36.0MB/s \n",
            "\u001b[?25hRequirement already satisfied: termcolor>=1.1.0 in /usr/local/lib/python3.6/dist-packages (from tensorflow==1.14.0) (1.1.0)\n",
            "Requirement already satisfied: wrapt>=1.11.1 in /usr/local/lib/python3.6/dist-packages (from tensorflow==1.14.0) (1.12.1)\n",
            "Requirement already satisfied: numpy<2.0,>=1.14.5 in /usr/local/lib/python3.6/dist-packages (from tensorflow==1.14.0) (1.18.5)\n",
            "Requirement already satisfied: setuptools in /usr/local/lib/python3.6/dist-packages (from protobuf>=3.6.1->tensorflow==1.14.0) (49.1.0)\n",
            "Requirement already satisfied: h5py in /usr/local/lib/python3.6/dist-packages (from keras-applications>=1.0.6->tensorflow==1.14.0) (2.10.0)\n",
            "Requirement already satisfied: markdown>=2.6.8 in /usr/local/lib/python3.6/dist-packages (from tensorboard<1.15.0,>=1.14.0->tensorflow==1.14.0) (3.2.2)\n",
            "Requirement already satisfied: werkzeug>=0.11.15 in /usr/local/lib/python3.6/dist-packages (from tensorboard<1.15.0,>=1.14.0->tensorflow==1.14.0) (1.0.1)\n",
            "Requirement already satisfied: importlib-metadata; python_version < \"3.8\" in /usr/local/lib/python3.6/dist-packages (from markdown>=2.6.8->tensorboard<1.15.0,>=1.14.0->tensorflow==1.14.0) (1.7.0)\n",
            "Requirement already satisfied: zipp>=0.5 in /usr/local/lib/python3.6/dist-packages (from importlib-metadata; python_version < \"3.8\"->markdown>=2.6.8->tensorboard<1.15.0,>=1.14.0->tensorflow==1.14.0) (3.1.0)\n",
            "Installing collected packages: tensorflow-estimator, tensorboard, tensorflow\n",
            "  Found existing installation: tensorflow-estimator 2.2.0\n",
            "    Uninstalling tensorflow-estimator-2.2.0:\n",
            "      Successfully uninstalled tensorflow-estimator-2.2.0\n",
            "  Found existing installation: tensorboard 2.2.2\n",
            "    Uninstalling tensorboard-2.2.2:\n",
            "      Successfully uninstalled tensorboard-2.2.2\n",
            "  Found existing installation: tensorflow 2.2.0\n",
            "    Uninstalling tensorflow-2.2.0:\n",
            "      Successfully uninstalled tensorflow-2.2.0\n",
            "Successfully installed tensorboard-1.14.0 tensorflow-1.14.0 tensorflow-estimator-1.14.0\n",
            "Collecting tensorflow-gpu==1.14.0\n",
            "\u001b[?25l  Downloading https://files.pythonhosted.org/packages/76/04/43153bfdfcf6c9a4c38ecdb971ca9a75b9a791bb69a764d652c359aca504/tensorflow_gpu-1.14.0-cp36-cp36m-manylinux1_x86_64.whl (377.0MB)\n",
            "\u001b[K     |████████████████████████████████| 377.0MB 44kB/s \n",
            "\u001b[?25hRequirement already satisfied: google-pasta>=0.1.6 in /usr/local/lib/python3.6/dist-packages (from tensorflow-gpu==1.14.0) (0.2.0)\n",
            "Requirement already satisfied: six>=1.10.0 in /usr/local/lib/python3.6/dist-packages (from tensorflow-gpu==1.14.0) (1.15.0)\n",
            "Requirement already satisfied: tensorflow-estimator<1.15.0rc0,>=1.14.0rc0 in /usr/local/lib/python3.6/dist-packages (from tensorflow-gpu==1.14.0) (1.14.0)\n",
            "Requirement already satisfied: astor>=0.6.0 in /usr/local/lib/python3.6/dist-packages (from tensorflow-gpu==1.14.0) (0.8.1)\n",
            "Requirement already satisfied: tensorboard<1.15.0,>=1.14.0 in /usr/local/lib/python3.6/dist-packages (from tensorflow-gpu==1.14.0) (1.14.0)\n",
            "Requirement already satisfied: grpcio>=1.8.6 in /usr/local/lib/python3.6/dist-packages (from tensorflow-gpu==1.14.0) (1.30.0)\n",
            "Requirement already satisfied: absl-py>=0.7.0 in /usr/local/lib/python3.6/dist-packages (from tensorflow-gpu==1.14.0) (0.9.0)\n",
            "Requirement already satisfied: wrapt>=1.11.1 in /usr/local/lib/python3.6/dist-packages (from tensorflow-gpu==1.14.0) (1.12.1)\n",
            "Requirement already satisfied: gast>=0.2.0 in /usr/local/lib/python3.6/dist-packages (from tensorflow-gpu==1.14.0) (0.3.3)\n",
            "Requirement already satisfied: keras-applications>=1.0.6 in /usr/local/lib/python3.6/dist-packages (from tensorflow-gpu==1.14.0) (1.0.8)\n",
            "Requirement already satisfied: wheel>=0.26 in /usr/local/lib/python3.6/dist-packages (from tensorflow-gpu==1.14.0) (0.34.2)\n",
            "Requirement already satisfied: termcolor>=1.1.0 in /usr/local/lib/python3.6/dist-packages (from tensorflow-gpu==1.14.0) (1.1.0)\n",
            "Requirement already satisfied: numpy<2.0,>=1.14.5 in /usr/local/lib/python3.6/dist-packages (from tensorflow-gpu==1.14.0) (1.18.5)\n",
            "Requirement already satisfied: keras-preprocessing>=1.0.5 in /usr/local/lib/python3.6/dist-packages (from tensorflow-gpu==1.14.0) (1.1.2)\n",
            "Requirement already satisfied: protobuf>=3.6.1 in /usr/local/lib/python3.6/dist-packages (from tensorflow-gpu==1.14.0) (3.12.2)\n",
            "Requirement already satisfied: markdown>=2.6.8 in /usr/local/lib/python3.6/dist-packages (from tensorboard<1.15.0,>=1.14.0->tensorflow-gpu==1.14.0) (3.2.2)\n",
            "Requirement already satisfied: werkzeug>=0.11.15 in /usr/local/lib/python3.6/dist-packages (from tensorboard<1.15.0,>=1.14.0->tensorflow-gpu==1.14.0) (1.0.1)\n",
            "Requirement already satisfied: setuptools>=41.0.0 in /usr/local/lib/python3.6/dist-packages (from tensorboard<1.15.0,>=1.14.0->tensorflow-gpu==1.14.0) (49.1.0)\n",
            "Requirement already satisfied: h5py in /usr/local/lib/python3.6/dist-packages (from keras-applications>=1.0.6->tensorflow-gpu==1.14.0) (2.10.0)\n",
            "Requirement already satisfied: importlib-metadata; python_version < \"3.8\" in /usr/local/lib/python3.6/dist-packages (from markdown>=2.6.8->tensorboard<1.15.0,>=1.14.0->tensorflow-gpu==1.14.0) (1.7.0)\n",
            "Requirement already satisfied: zipp>=0.5 in /usr/local/lib/python3.6/dist-packages (from importlib-metadata; python_version < \"3.8\"->markdown>=2.6.8->tensorboard<1.15.0,>=1.14.0->tensorflow-gpu==1.14.0) (3.1.0)\n",
            "Installing collected packages: tensorflow-gpu\n",
            "Successfully installed tensorflow-gpu-1.14.0\n",
            "Collecting imageai\n",
            "\u001b[?25l  Downloading https://files.pythonhosted.org/packages/09/99/4023e191a343fb23f01ae02ac57a5ca58037c310e8d8c62f87638a3bafc7/imageai-2.1.5-py3-none-any.whl (180kB)\n",
            "\u001b[K     |████████████████████████████████| 184kB 7.4MB/s \n",
            "\u001b[?25hRequirement already satisfied, skipping upgrade: numpy in /usr/local/lib/python3.6/dist-packages (from imageai) (1.18.5)\n",
            "Requirement already satisfied, skipping upgrade: pillow in /usr/local/lib/python3.6/dist-packages (from imageai) (7.0.0)\n",
            "Requirement already satisfied, skipping upgrade: matplotlib in /usr/local/lib/python3.6/dist-packages (from imageai) (3.2.2)\n",
            "Requirement already satisfied, skipping upgrade: scipy in /usr/local/lib/python3.6/dist-packages (from imageai) (1.4.1)\n",
            "Requirement already satisfied, skipping upgrade: h5py in /usr/local/lib/python3.6/dist-packages (from imageai) (2.10.0)\n",
            "Requirement already satisfied, skipping upgrade: python-dateutil>=2.1 in /usr/local/lib/python3.6/dist-packages (from matplotlib->imageai) (2.8.1)\n",
            "Requirement already satisfied, skipping upgrade: pyparsing!=2.0.4,!=2.1.2,!=2.1.6,>=2.0.1 in /usr/local/lib/python3.6/dist-packages (from matplotlib->imageai) (2.4.7)\n",
            "Requirement already satisfied, skipping upgrade: cycler>=0.10 in /usr/local/lib/python3.6/dist-packages (from matplotlib->imageai) (0.10.0)\n",
            "Requirement already satisfied, skipping upgrade: kiwisolver>=1.0.1 in /usr/local/lib/python3.6/dist-packages (from matplotlib->imageai) (1.2.0)\n",
            "Requirement already satisfied, skipping upgrade: six in /usr/local/lib/python3.6/dist-packages (from h5py->imageai) (1.15.0)\n",
            "Installing collected packages: imageai\n",
            "Successfully installed imageai-2.1.5\n"
          ],
          "name": "stdout"
        }
      ]
    },
    {
      "cell_type": "code",
      "metadata": {
        "id": "ykfj1WaApWbg",
        "colab_type": "code",
        "colab": {}
      },
      "source": [
        "# import zipfile\n",
        "# zip_ref = zipfile.ZipFile(\"/content/drive/My Drive/Datasets/Computer Vision Intern assigment-20200725T202121Z-001.zip\", 'r')\n",
        "# zip_ref.extractall(\"/content/drive/My Drive/Datasets//IoTric\")\n",
        "# zip_ref.close()"
      ],
      "execution_count": null,
      "outputs": []
    },
    {
      "cell_type": "code",
      "metadata": {
        "id": "kmgb0nd_dSFy",
        "colab_type": "code",
        "colab": {
          "base_uri": "https://localhost:8080/",
          "height": 222
        },
        "outputId": "0bd681c0-76d0-4ac7-9edf-445946f4ff80"
      },
      "source": [
        "from imageai.Detection.Custom import DetectionModelTrainer\n",
        "\n",
        "trainer = DetectionModelTrainer()\n",
        "trainer.setModelTypeAsYOLOv3()\n",
        "trainer.setDataDirectory(data_directory=\"/content/drive/My Drive/Datasets/IoTric\")\n",
        "trainer.setTrainConfig(object_names_array=[\"crack\",\"bullseye\",\"scratch\"], batch_size=3, num_experiments=50, train_from_pretrained_model=\"/content/drive/My Drive/Datasets/IoTric/models/detection_model-ex-005--loss-0006.229.h5\")\n",
        "trainer.trainModel()"
      ],
      "execution_count": null,
      "outputs": [
        {
          "output_type": "stream",
          "text": [
            "Generating anchor boxes for training images and annotation...\n",
            "Average IOU for 9 anchors: 0.75\n",
            "Anchor Boxes generated.\n",
            "Detection configuration saved in  /content/drive/My Drive/Datasets/IoTric/json/detection_config.json\n",
            "Training on: \t['bullseye', 'crack', 'scratch']\n",
            "Training with Batch Size:  32\n",
            "Number of Experiments:  50\n",
            "Training with transfer learning from pretrained Model\n"
          ],
          "name": "stdout"
        },
        {
          "output_type": "stream",
          "text": [
            "/usr/local/lib/python3.6/dist-packages/keras/callbacks/callbacks.py:998: UserWarning: `epsilon` argument is deprecated and will be removed, use `min_delta` instead.\n",
            "  warnings.warn('`epsilon` argument is deprecated and '\n"
          ],
          "name": "stderr"
        },
        {
          "output_type": "stream",
          "text": [
            "Epoch 1/50\n"
          ],
          "name": "stdout"
        }
      ]
    },
    {
      "cell_type": "code",
      "metadata": {
        "id": "ZmNa_by5fFMM",
        "colab_type": "code",
        "colab": {
          "base_uri": "https://localhost:8080/",
          "height": 390
        },
        "outputId": "7c0c021b-2192-4a4c-8767-9ab3c99aefab"
      },
      "source": [
        "from imageai.Detection.Custom import DetectionModelTrainer\n",
        "\n",
        "trainer = DetectionModelTrainer()\n",
        "trainer.setModelTypeAsYOLOv3()\n",
        "trainer.setDataDirectory(data_directory=\"/content/drive/My Drive/Datasets/IoTric\")\n",
        "trainer.evaluateModel(model_path=\"/content/drive/My Drive/Datasets/IoTric/models/detection_model-ex-005--loss-0006.229.h5\", json_path=\"/content/drive/My Drive/Datasets/IoTric/json/detection_config.json\", iou_threshold=0.5, object_threshold=0.3, nms_threshold=0.5)"
      ],
      "execution_count": null,
      "outputs": [
        {
          "output_type": "stream",
          "text": [
            "Starting Model evaluation....\n"
          ],
          "name": "stdout"
        },
        {
          "output_type": "stream",
          "text": [
            "/usr/local/lib/python3.6/dist-packages/keras/engine/saving.py:341: UserWarning: No training configuration found in save file: the model was *not* compiled. Compile it manually.\n",
            "  warnings.warn('No training configuration found in save file: '\n"
          ],
          "name": "stderr"
        },
        {
          "output_type": "stream",
          "text": [
            "Model File:  /content/drive/My Drive/Datasets/IoTric/models/detection_model-ex-005--loss-0006.229.h5 \n",
            "\n",
            "Using IoU :  0.5\n",
            "Using Object Threshold :  0.3\n",
            "Using Non-Maximum Suppression :  0.5\n",
            "bullseye: 0.7534\n",
            "crack: 0.4045\n",
            "scratch: 0.6162\n",
            "mAP: 0.5914\n",
            "===============================\n"
          ],
          "name": "stdout"
        },
        {
          "output_type": "execute_result",
          "data": {
            "text/plain": [
              "[{'average_precision': {'bullseye': 0.7533757293663498,\n",
              "   'crack': 0.40448632383560085,\n",
              "   'scratch': 0.6162207426517305},\n",
              "  'map': 0.5913609319512271,\n",
              "  'model_file': '/content/drive/My Drive/Datasets/IoTric/models/detection_model-ex-005--loss-0006.229.h5',\n",
              "  'using_iou': 0.5,\n",
              "  'using_non_maximum_suppression': 0.5,\n",
              "  'using_object_threshold': 0.3}]"
            ]
          },
          "metadata": {
            "tags": []
          },
          "execution_count": 5
        }
      ]
    },
    {
      "cell_type": "code",
      "metadata": {
        "id": "bW7DeWaiZrqJ",
        "colab_type": "code",
        "colab": {
          "base_uri": "https://localhost:8080/",
          "height": 390
        },
        "outputId": "d082711c-d31e-4f67-fce3-4f583dde02d9"
      },
      "source": [
        "trainer = DetectionModelTrainer()\n",
        "trainer.setModelTypeAsYOLOv3()\n",
        "trainer.setDataDirectory(data_directory=\"/content/drive/My Drive/Datasets/IoTric\")\n",
        "trainer.evaluateModel(model_path=\"/content/drive/My Drive/Datasets/IoTric/models/detection_model-ex-004--loss-0006.716.h5\", json_path=\"/content/drive/My Drive/Datasets/IoTric/json/detection_config.json\", iou_threshold=0.5, object_threshold=0.3, nms_threshold=0.5)"
      ],
      "execution_count": null,
      "outputs": [
        {
          "output_type": "stream",
          "text": [
            "Starting Model evaluation....\n"
          ],
          "name": "stdout"
        },
        {
          "output_type": "stream",
          "text": [
            "/usr/local/lib/python3.6/dist-packages/keras/engine/saving.py:341: UserWarning: No training configuration found in save file: the model was *not* compiled. Compile it manually.\n",
            "  warnings.warn('No training configuration found in save file: '\n"
          ],
          "name": "stderr"
        },
        {
          "output_type": "stream",
          "text": [
            "Model File:  /content/drive/My Drive/Datasets/IoTric/models/detection_model-ex-004--loss-0006.716.h5 \n",
            "\n",
            "Using IoU :  0.5\n",
            "Using Object Threshold :  0.3\n",
            "Using Non-Maximum Suppression :  0.5\n",
            "bullseye: 0.8426\n",
            "crack: 0.5205\n",
            "scratch: 0.6138\n",
            "mAP: 0.6590\n",
            "===============================\n"
          ],
          "name": "stdout"
        },
        {
          "output_type": "execute_result",
          "data": {
            "text/plain": [
              "[{'average_precision': {'bullseye': 0.8425735161032172,\n",
              "   'crack': 0.5204860690031531,\n",
              "   'scratch': 0.6138469808180436},\n",
              "  'map': 0.658968855308138,\n",
              "  'model_file': '/content/drive/My Drive/Datasets/IoTric/models/detection_model-ex-004--loss-0006.716.h5',\n",
              "  'using_iou': 0.5,\n",
              "  'using_non_maximum_suppression': 0.5,\n",
              "  'using_object_threshold': 0.3}]"
            ]
          },
          "metadata": {
            "tags": []
          },
          "execution_count": 7
        }
      ]
    },
    {
      "cell_type": "code",
      "metadata": {
        "id": "e5vuyLpD3tlB",
        "colab_type": "code",
        "colab": {
          "base_uri": "https://localhost:8080/",
          "height": 50
        },
        "outputId": "c3c8e3f2-815b-4f7e-e8c1-7ca4bf27b755"
      },
      "source": [
        "#--------------------------------Performing on test Data------------------------------------------------\n",
        "\n",
        "from imageai.Detection.Custom import CustomObjectDetection\n",
        "import matplotlib.pyplot as plt\n",
        "import os\n",
        "import re\n",
        "\n",
        "detector = CustomObjectDetection()\n",
        "detector.setModelTypeAsYOLOv3()\n",
        "detector.setModelPath(\"/content/drive/My Drive/Datasets/IoTric/models/detection_model-ex-005--loss-0006.229.h5\") \n",
        "detector.setJsonPath(\"/content/drive/My Drive/Datasets/IoTric/json/detection_config.json\")\n",
        "detector.loadModel()\n",
        "\n",
        "# Provide Image Path(including Image ) for the required output\n",
        "image_to_detect=\"/content/drive/My Drive/Datasets/IoTric/test/images/13.jpg\"\n",
        "\n",
        "picture_detail = image_to_detect\n",
        "regex = re.compile('(.*\\/(?P<name>\\w+)\\.(?P<ext>\\w+))')\n",
        "pic_name= regex.search(picture_detail).group('name')\n",
        "pic_ext= regex.search(picture_detail).group('ext')\n",
        "\n",
        "#path of directory where we want to save our output image\n",
        "image_save_path=\"/content/drive/My Drive/Datasets/IoTric/result_detected_images/\"+pic_name+\".\"+pic_ext\n",
        "\n",
        "\n",
        "detections = detector.detectObjectsFromImage(input_image=image_to_detect, output_image_path=image_save_path)\n",
        "for detection in detections:\n",
        "  print(detection[\"name\"], \" : \", detection[\"percentage_probability\"], \" : \", detection[\"box_points\"])"
      ],
      "execution_count": null,
      "outputs": [
        {
          "output_type": "stream",
          "text": [
            "crack  :  91.24823212623596  :  [302, 136, 667, 281]\n",
            "scratch  :  52.704280614852905  :  [318, 157, 653, 290]\n"
          ],
          "name": "stdout"
        }
      ]
    },
    {
      "cell_type": "code",
      "metadata": {
        "id": "amzsIQXOfei9",
        "colab_type": "code",
        "colab": {
          "base_uri": "https://localhost:8080/",
          "height": 1000
        },
        "outputId": "636a71ce-f936-4164-8380-8fe1d982cbf7"
      },
      "source": [
        "import cv2 \n",
        "path = r'/content/drive/My Drive/Datasets/IoTric/test/images/'\n",
        "for img in os.listdir(r'/content/drive/My Drive/Datasets/IoTric/test/images/'):\n",
        "  mg=cv2.imread(path+img)\n",
        "  regex = re.compile('(.*\\/(?P<name>\\w+)\\.(?P<ext>\\w+))')\n",
        "  pic_name= regex.search(path+img).group('name')\n",
        "  pic_ext= regex.search(path+img).group('ext')\n",
        "  #path of directory where we want to save our output image\n",
        "  image_save_path=\"/content/drive/My Drive/Datasets/IoTric/result_detected_images/\"+pic_name+\".\"+pic_ext\n",
        "  detections = detector.detectObjectsFromImage(input_image=path+img, output_image_path=image_save_path)\n",
        "  for detection in detections:\n",
        "    print(detection[\"name\"], \" : \", detection[\"percentage_probability\"], \" : \", detection[\"box_points\"])"
      ],
      "execution_count": null,
      "outputs": [
        {
          "output_type": "stream",
          "text": [
            "bullseye  :  68.79850029945374  :  [346, 72, 411, 118]\n",
            "bullseye  :  74.90019798278809  :  [53, 1, 183, 69]\n",
            "scratch  :  99.10747408866882  :  [17, 38, 265, 184]\n",
            "scratch  :  62.20298409461975  :  [20, 109, 262, 166]\n",
            "crack  :  91.24823212623596  :  [302, 136, 667, 281]\n",
            "scratch  :  52.704280614852905  :  [318, 157, 653, 290]\n",
            "crack  :  92.53010153770447  :  [73, 0, 513, 305]\n",
            "scratch  :  67.24179983139038  :  [68, 17, 455, 361]\n",
            "crack  :  90.3229296207428  :  [165, 41, 429, 235]\n",
            "crack  :  54.76692318916321  :  [87, 19, 482, 299]\n",
            "scratch  :  99.31020736694336  :  [18, 14, 293, 162]\n",
            "scratch  :  99.8360276222229  :  [117, 4, 266, 211]\n",
            "crack  :  93.27164888381958  :  [104, 75, 190, 139]\n",
            "bullseye  :  98.90331029891968  :  [403, 230, 534, 342]\n",
            "bullseye  :  97.95230627059937  :  [517, 244, 670, 386]\n",
            "crack  :  85.38283705711365  :  [508, 256, 872, 428]\n",
            "crack  :  63.69370222091675  :  [138, 134, 444, 312]\n",
            "bullseye  :  62.8598690032959  :  [155, 151, 429, 315]\n",
            "scratch  :  74.42346811294556  :  [156, 38, 252, 91]\n",
            "scratch  :  90.03421664237976  :  [30, 43, 94, 65]\n",
            "bullseye  :  99.1502046585083  :  [88, 39, 146, 78]\n",
            "bullseye  :  98.32602739334106  :  [82, 58, 139, 89]\n",
            "bullseye  :  98.15188646316528  :  [122, 70, 160, 104]\n",
            "bullseye  :  89.87884521484375  :  [106, 50, 208, 101]\n",
            "scratch  :  96.66182398796082  :  [272, 162, 507, 229]\n",
            "bullseye  :  98.86711239814758  :  [133, 75, 159, 98]\n",
            "bullseye  :  94.60639357566833  :  [120, 52, 209, 112]\n",
            "crack  :  87.49909400939941  :  [116, 141, 470, 274]\n",
            "bullseye  :  98.32602739334106  :  [82, 58, 139, 89]\n",
            "scratch  :  99.83167052268982  :  [0, 12, 260, 172]\n",
            "crack  :  84.87703800201416  :  [89, 32, 177, 95]\n",
            "bullseye  :  99.07159209251404  :  [471, 243, 601, 353]\n",
            "crack  :  86.85344457626343  :  [40, 14, 199, 164]\n",
            "bullseye  :  92.56249070167542  :  [553, 259, 875, 437]\n",
            "bullseye  :  98.79778623580933  :  [347, 179, 420, 238]\n",
            "bullseye  :  98.4932541847229  :  [471, 166, 577, 255]\n",
            "bullseye  :  93.33075881004333  :  [484, 234, 828, 471]\n",
            "scratch  :  84.55045819282532  :  [301, 71, 456, 168]\n",
            "scratch  :  91.50373935699463  :  [59, 81, 184, 121]\n",
            "bullseye  :  98.70101809501648  :  [176, 74, 270, 143]\n",
            "crack  :  92.53096580505371  :  [245, 183, 375, 257]\n",
            "bullseye  :  94.56876516342163  :  [71, 37, 210, 119]\n",
            "scratch  :  70.9540843963623  :  [0, 42, 574, 222]\n",
            "scratch  :  95.38968801498413  :  [0, 81, 786, 157]\n",
            "scratch  :  65.48387408256531  :  [0, 139, 678, 315]\n",
            "scratch  :  76.21937990188599  :  [66, 101, 622, 151]\n",
            "crack  :  72.966468334198  :  [178, 117, 277, 196]\n",
            "bullseye  :  86.96862459182739  :  [185, 121, 279, 191]\n",
            "scratch  :  99.3800401687622  :  [71, 69, 984, 316]\n",
            "crack  :  96.75411581993103  :  [14, 25, 258, 187]\n",
            "scratch  :  65.35018682479858  :  [0, 38, 277, 187]\n",
            "bullseye  :  97.18236327171326  :  [1129, 570, 1662, 1059]\n",
            "scratch  :  58.3240807056427  :  [148, 151, 273, 253]\n",
            "crack  :  69.51954960823059  :  [145, 81, 213, 145]\n",
            "scratch  :  74.43738579750061  :  [78, 56, 133, 179]\n",
            "bullseye  :  73.04533123970032  :  [149, 86, 215, 148]\n",
            "crack  :  96.05461359024048  :  [29, 77, 173, 152]\n",
            "crack  :  97.13747501373291  :  [35, 72, 253, 243]\n",
            "scratch  :  99.13054704666138  :  [178, 210, 766, 289]\n",
            "scratch  :  88.41924667358398  :  [187, 458, 472, 532]\n",
            "crack  :  91.33457541465759  :  [41, 7, 181, 163]\n",
            "bullseye  :  97.50616550445557  :  [130, 71, 159, 106]\n",
            "scratch  :  99.16901588439941  :  [122, 60, 931, 327]\n",
            "scratch  :  65.10787606239319  :  [7, 134, 331, 248]\n",
            "scratch  :  53.380876779556274  :  [398, 153, 463, 217]\n",
            "crack  :  97.41456508636475  :  [136, 69, 700, 1138]\n",
            "crack  :  92.34842658042908  :  [473, 404, 897, 600]\n",
            "crack  :  96.79931998252869  :  [1037, 389, 1515, 623]\n",
            "bullseye  :  96.70031666755676  :  [115, 76, 151, 104]\n",
            "scratch  :  84.66621041297913  :  [3, 5, 227, 81]\n",
            "crack  :  94.38312649726868  :  [43, 43, 179, 210]\n"
          ],
          "name": "stdout"
        }
      ]
    },
    {
      "cell_type": "code",
      "metadata": {
        "id": "sGeh7AEA4yfG",
        "colab_type": "code",
        "colab": {
          "base_uri": "https://localhost:8080/",
          "height": 1000
        },
        "outputId": "cc95a9d8-158b-4e14-9c06-cacf3f5c1911"
      },
      "source": [
        "#-------------------some of the samples outputs can be shown here-------------------------------\n",
        "path=r'/content/drive/My Drive/Datasets/IoTric/result_detected_images/'\n",
        "for img in os.listdir(r'/content/drive/My Drive/Datasets/IoTric/result_detected_images/'):\n",
        "  image=cv2.imread(path+img)\n",
        "  plt.imshow(image)\n",
        "  plt.show()"
      ],
      "execution_count": null,
      "outputs": []
    },
    {
      "cell_type": "code",
      "metadata": {
        "id": "MQzLK3s7fHtP",
        "colab_type": "code",
        "colab": {}
      },
      "source": [
        ""
      ],
      "execution_count": null,
      "outputs": []
    }
  ]
}